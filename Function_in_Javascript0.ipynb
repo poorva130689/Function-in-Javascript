{
  "nbformat": 4,
  "nbformat_minor": 0,
  "metadata": {
    "colab": {
      "provenance": []
    },
    "kernelspec": {
      "name": "python3",
      "display_name": "Python 3"
    },
    "language_info": {
      "name": "python"
    }
  },
  "cells": [
    {
      "cell_type": "code",
      "execution_count": null,
      "metadata": {
        "id": "2PHB_Z9R0gCb"
      },
      "outputs": [],
      "source": []
    },
    {
      "cell_type": "markdown",
      "source": [
        "Q1. Create an arrow function called square that takes a number as an argument and returns its square. Use\n",
        "the arrow function to calculate the square of a given number and display the result."
      ],
      "metadata": {
        "id": "ZKYp0LSZ0r5j"
      }
    },
    {
      "cell_type": "code",
      "source": [
        "const square=(num)=> num*num\n",
        "let result\n",
        "result=square(5)\n",
        "console.log(result);"
      ],
      "metadata": {
        "id": "oW3QsyC1A65C"
      },
      "execution_count": null,
      "outputs": []
    },
    {
      "cell_type": "markdown",
      "source": [
        "Q2. Create a JavaScript function called generateGreeting that takes a name as an argument and returns a\n",
        "personalized greeting message. Use this function to greet three different people."
      ],
      "metadata": {
        "id": "hiE_IqlaBXoY"
      }
    },
    {
      "cell_type": "code",
      "source": [
        "function greeting(name) {\n",
        "  return `hello,${name}`\n",
        "}\n",
        "console.log(greeting(\"poorva\"));\n",
        "\n",
        "console.log(greeting(\"Rahul\"));\n",
        "console.log(greeting(\"sneha\"));"
      ],
      "metadata": {
        "id": "1pSV5e-mB1U7"
      },
      "execution_count": null,
      "outputs": []
    },
    {
      "cell_type": "markdown",
      "source": [
        "Q3. Create an IIFE (Immediately Invoked Function Expression) that calculates the square of a number and\n",
        "immediately displays the result."
      ],
      "metadata": {
        "id": "lE6HOJQ8B9tN"
      }
    },
    {
      "cell_type": "code",
      "source": [
        "(function(){\n",
        "    console.log(\"IIFE\")\n",
        "}\n",
        ")();"
      ],
      "metadata": {
        "id": "j8B348L5CJB-"
      },
      "execution_count": null,
      "outputs": []
    },
    {
      "cell_type": "markdown",
      "source": [
        "Q4. Write a JavaScript function called calculateTax that takes an income as an argument and returns the\n",
        "amount of tax to be paid. Use a closure to handle different tax rates based on income ranges. Test the\n",
        "function with various incomes."
      ],
      "metadata": {
        "id": "GYLYCOOwC2Yg"
      }
    },
    {
      "cell_type": "code",
      "source": [
        "function calculate Tax(){\n",
        "    return function(income){\n",
        "        if(income<=250000){\n",
        "            return 0;\n",
        "\n",
        "        } else if(income<=500000){\n",
        "            return income*0.05;\n",
        "        } else if (income<=1000000){\n",
        "            return income*0.2;\n",
        "\n",
        "        }else {\n",
        "            return income*0.3;\n",
        "        }\n",
        "    }\n",
        "}\n",
        "const taxCalculator=calculateTax();\n",
        "console.log(taxCalculator(200000));\n",
        "console.log(taxCalculator(400000));\n",
        "console.log(taxCalculator(800000));\n",
        "console.log(taxCalculator(1500000));\n",
        "\n"
      ],
      "metadata": {
        "id": "yejjyoYB-Up6"
      },
      "execution_count": null,
      "outputs": []
    },
    {
      "cell_type": "markdown",
      "source": [
        "Q5. Write a JavaScript function called factorial that calculates the factorial of a non-negative integer using\n",
        "recursion. Test the function with different inputs."
      ],
      "metadata": {
        "id": "BVEBgvohM0tE"
      }
    },
    {
      "cell_type": "code",
      "source": [
        "\n",
        "\n",
        "function factorial(n) {\n",
        "    if(n===0||n===1)return 1;\n",
        "    return n* factorial(n-1);\n",
        "}\n",
        "console.log(factorial(0));\n",
        "console.log(factorial(5));\n",
        "console.log(factorial(7));\n",
        "\n",
        "\n",
        "\n",
        "\n",
        "\n"
      ],
      "metadata": {
        "id": "ZnIbLlCi6b9n"
      },
      "execution_count": null,
      "outputs": []
    },
    {
      "cell_type": "markdown",
      "source": [
        "Q6. Write a JavaScript function called curry that takes a function as an argument and returns a curried\n",
        "version of that function. The curried function should accept arguments one at a time and return a new\n",
        "function until all arguments are provided. Then, it should execute the original function with all arguments.\n",
        "Test the curry function with a function that adds two numbers."
      ],
      "metadata": {
        "id": "c6ps-tNXDFEL"
      }
    },
    {
      "cell_type": "code",
      "source": [
        "function curry(func) {\n",
        "  return function curried(...args) {\n",
        "    // If enough arguments are provided, execute the original function\n",
        "    if (args.length >= func.length) {\n",
        "      return func(...args);\n",
        "    } else {\n",
        "      // Otherwise, return a new function that expects more arguments\n",
        "      return function(...nextArgs) {\n",
        "        return curried(...args, ...nextArgs);\n",
        "      };\n",
        "    }\n",
        "  };\n",
        "}\n",
        "\n",
        "// Test the curry function with a function that adds two numbers\n",
        "function add(a, b) {\n",
        "  return a + b;\n",
        "}\n",
        "\n",
        "const curriedAdd = curry(add);\n",
        "\n",
        "// Test cases\n",
        "console.log(\"Curried add with arguments one at a time:\", curriedAdd(5)(3)); //\n",
        "console.log(\"Curried add with all arguments at once:\", curriedAdd(10, 20)); //\n",
        "console.log(\"Curried add with partial application:\", curriedAdd(7)(8));\n"
      ],
      "metadata": {
        "id": "n6-i5jFBDaVK"
      },
      "execution_count": null,
      "outputs": []
    }
  ]
}